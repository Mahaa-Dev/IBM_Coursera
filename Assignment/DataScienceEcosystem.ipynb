{
 "cells": [
  {
   "cell_type": "markdown",
   "id": "e1be0dac",
   "metadata": {},
   "source": [
    "# Data Science Tools and Ecosystem"
   ]
  },
  {
   "cell_type": "markdown",
   "id": "5000dbe0",
   "metadata": {},
   "source": [
    "In this notebook, Data Science Tools and Ecosystem are summarized."
   ]
  },
  {
   "cell_type": "markdown",
   "id": "81dd051d",
   "metadata": {},
   "source": [
    "`Some of the popular languages that Data Scientists use are:`\n",
    "\n",
    "1. Python\n",
    "2. R\n",
    "3. SQL\n",
    "4. Java"
   ]
  },
  {
   "cell_type": "markdown",
   "id": "d53ae723",
   "metadata": {},
   "source": [
    "`Some of the commonly used libraries used by Data Scientists include:`\n",
    "\n",
    "1. Scikit-learn\n",
    "2. Tensorflow\n",
    "3. Pytorch\n",
    "\n"
   ]
  },
  {
   "cell_type": "markdown",
   "id": "15837568",
   "metadata": {},
   "source": [
    "|Data Science Tools|\n",
    "|------------------|\n",
    "|Jupyter Notebook|\n",
    "|RStudio|\n",
    "|Spyder|"
   ]
  },
  {
   "cell_type": "markdown",
   "id": "3d73b238",
   "metadata": {},
   "source": [
    "### Below are a few examples of evaluating arithmetic expressions in Python\n",
    "\n",
    " - Addition `+`\n",
    " ```python\n",
    "x = 5\n",
    "y = 10\n",
    "z = x + y\n",
    "print(z)  # Output: 15\n",
    "```\n",
    " - Substration `-`\n",
    " ```python\n",
    "x = 15\n",
    "y = 10\n",
    "z = x - y\n",
    "print(z)  # Output: 5\n",
    "```\n",
    " - Multiplication `*`\n",
    " ```python\n",
    "x = 5\n",
    "y = 10\n",
    "z = x * y\n",
    "print(z)  # Output: 50\n",
    "```"
   ]
  },
  {
   "cell_type": "markdown",
   "id": "dbb474c1",
   "metadata": {},
   "source": [
    " This a simple arithmetic expression to mutiply then add integers"
   ]
  },
  {
   "cell_type": "code",
   "execution_count": 3,
   "id": "7b64da09",
   "metadata": {},
   "outputs": [
    {
     "data": {
      "text/plain": [
       "17"
      ]
     },
     "execution_count": 3,
     "metadata": {},
     "output_type": "execute_result"
    }
   ],
   "source": [
    "(3*4)+5"
   ]
  },
  {
   "cell_type": "markdown",
   "id": "4639317c",
   "metadata": {},
   "source": [
    "This will convert 200 minutes to hours by diving by 60"
   ]
  },
  {
   "cell_type": "code",
   "execution_count": 4,
   "id": "df3aae1a",
   "metadata": {},
   "outputs": [
    {
     "data": {
      "text/plain": [
       "3.3333333333333335"
      ]
     },
     "execution_count": 4,
     "metadata": {},
     "output_type": "execute_result"
    }
   ],
   "source": [
    "200/60"
   ]
  },
  {
   "cell_type": "markdown",
   "id": "9ed12308",
   "metadata": {},
   "source": [
    "**Objectives**\n",
    "\n",
    "- Popular languages for Data Science\n",
    "- List of Data Science Libraries\n",
    "- List of Data Science tools"
   ]
  },
  {
   "cell_type": "markdown",
   "id": "e7d78e81",
   "metadata": {},
   "source": [
    "## Author's name\n",
    "\n",
    "Shiv Kumar Yadav"
   ]
  },
  {
   "cell_type": "code",
   "execution_count": null,
   "id": "74e4685e",
   "metadata": {},
   "outputs": [],
   "source": []
  }
 ],
 "metadata": {
  "kernelspec": {
   "display_name": "Python 3 (ipykernel)",
   "language": "python",
   "name": "python3"
  },
  "language_info": {
   "codemirror_mode": {
    "name": "ipython",
    "version": 3
   },
   "file_extension": ".py",
   "mimetype": "text/x-python",
   "name": "python",
   "nbconvert_exporter": "python",
   "pygments_lexer": "ipython3",
   "version": "3.9.6"
  }
 },
 "nbformat": 4,
 "nbformat_minor": 5
}
